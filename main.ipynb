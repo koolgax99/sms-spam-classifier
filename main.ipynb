{
 "cells": [
  {
   "cell_type": "code",
   "execution_count": 1,
   "id": "e0728c07",
   "metadata": {},
   "outputs": [],
   "source": [
    "import pandas as pd"
   ]
  },
  {
   "cell_type": "code",
   "execution_count": 2,
   "id": "14a12dca",
   "metadata": {
    "scrolled": true
   },
   "outputs": [
    {
     "data": {
      "text/html": [
       "<div>\n",
       "<style scoped>\n",
       "    .dataframe tbody tr th:only-of-type {\n",
       "        vertical-align: middle;\n",
       "    }\n",
       "\n",
       "    .dataframe tbody tr th {\n",
       "        vertical-align: top;\n",
       "    }\n",
       "\n",
       "    .dataframe thead th {\n",
       "        text-align: right;\n",
       "    }\n",
       "</style>\n",
       "<table border=\"1\" class=\"dataframe\">\n",
       "  <thead>\n",
       "    <tr style=\"text-align: right;\">\n",
       "      <th></th>\n",
       "      <th>label</th>\n",
       "      <th>messages</th>\n",
       "    </tr>\n",
       "  </thead>\n",
       "  <tbody>\n",
       "    <tr>\n",
       "      <th>0</th>\n",
       "      <td>ham</td>\n",
       "      <td>Go until jurong point, crazy.. Available only ...</td>\n",
       "    </tr>\n",
       "    <tr>\n",
       "      <th>1</th>\n",
       "      <td>ham</td>\n",
       "      <td>Ok lar... Joking wif u oni...</td>\n",
       "    </tr>\n",
       "    <tr>\n",
       "      <th>2</th>\n",
       "      <td>spam</td>\n",
       "      <td>Free entry in 2 a wkly comp to win FA Cup fina...</td>\n",
       "    </tr>\n",
       "    <tr>\n",
       "      <th>3</th>\n",
       "      <td>ham</td>\n",
       "      <td>U dun say so early hor... U c already then say...</td>\n",
       "    </tr>\n",
       "    <tr>\n",
       "      <th>4</th>\n",
       "      <td>ham</td>\n",
       "      <td>Nah I don't think he goes to usf, he lives aro...</td>\n",
       "    </tr>\n",
       "    <tr>\n",
       "      <th>...</th>\n",
       "      <td>...</td>\n",
       "      <td>...</td>\n",
       "    </tr>\n",
       "    <tr>\n",
       "      <th>5567</th>\n",
       "      <td>spam</td>\n",
       "      <td>This is the 2nd time we have tried 2 contact u...</td>\n",
       "    </tr>\n",
       "    <tr>\n",
       "      <th>5568</th>\n",
       "      <td>ham</td>\n",
       "      <td>Will ü b going to esplanade fr home?</td>\n",
       "    </tr>\n",
       "    <tr>\n",
       "      <th>5569</th>\n",
       "      <td>ham</td>\n",
       "      <td>Pity, * was in mood for that. So...any other s...</td>\n",
       "    </tr>\n",
       "    <tr>\n",
       "      <th>5570</th>\n",
       "      <td>ham</td>\n",
       "      <td>The guy did some bitching but I acted like i'd...</td>\n",
       "    </tr>\n",
       "    <tr>\n",
       "      <th>5571</th>\n",
       "      <td>ham</td>\n",
       "      <td>Rofl. Its true to its name</td>\n",
       "    </tr>\n",
       "  </tbody>\n",
       "</table>\n",
       "<p>5572 rows × 2 columns</p>\n",
       "</div>"
      ],
      "text/plain": [
       "     label                                           messages\n",
       "0      ham  Go until jurong point, crazy.. Available only ...\n",
       "1      ham                      Ok lar... Joking wif u oni...\n",
       "2     spam  Free entry in 2 a wkly comp to win FA Cup fina...\n",
       "3      ham  U dun say so early hor... U c already then say...\n",
       "4      ham  Nah I don't think he goes to usf, he lives aro...\n",
       "...    ...                                                ...\n",
       "5567  spam  This is the 2nd time we have tried 2 contact u...\n",
       "5568   ham               Will ü b going to esplanade fr home?\n",
       "5569   ham  Pity, * was in mood for that. So...any other s...\n",
       "5570   ham  The guy did some bitching but I acted like i'd...\n",
       "5571   ham                         Rofl. Its true to its name\n",
       "\n",
       "[5572 rows x 2 columns]"
      ]
     },
     "execution_count": 2,
     "metadata": {},
     "output_type": "execute_result"
    }
   ],
   "source": [
    "# Importing the dataset and initializing the column names\n",
    "df = pd.read_csv(\"SMSSpamCollection\", sep='\\t', names=[\"label\", \"messages\"])\n",
    "df"
   ]
  },
  {
   "cell_type": "code",
   "execution_count": 3,
   "id": "313850da",
   "metadata": {},
   "outputs": [],
   "source": [
    "#importing the libraries\n",
    "import re\n",
    "from nltk.stem.porter import PorterStemmer\n",
    "from nltk.stem import WordNetLemmatizer\n",
    "from nltk.corpus import stopwords\n",
    "ps = PorterStemmer()\n",
    "wordnet = WordNetLemmatizer()\n",
    "corpus_stem = []\n",
    "corpus_lemma=[]"
   ]
  },
  {
   "cell_type": "code",
   "execution_count": 4,
   "id": "b2a80043",
   "metadata": {},
   "outputs": [],
   "source": [
    "#preprocessing the data\n",
    "#for stemmer\n",
    "for i in range(len(df)):\n",
    "    review = re.sub('[^a-zA-Z]', ' ', df['messages'][i]) #removing all the punctuation marks\n",
    "    review = review.lower() #lowering  the sentences\n",
    "    review = review.split()\n",
    "    review = [ps.stem(word) for word in review if word not in set(stopwords.words('english'))]\n",
    "    review = ' '.join(review)\n",
    "    corpus_stem.append(review)"
   ]
  },
  {
   "cell_type": "code",
   "execution_count": 5,
   "id": "b2f6d868",
   "metadata": {},
   "outputs": [],
   "source": [
    "#preprocessing the data\n",
    "#for lemmatizer\n",
    "for i in range(len(df)):\n",
    "    review = re.sub('[^a-zA-Z]', ' ', df['messages'][i]) #removing all the punctuation marks\n",
    "    review = review.lower() #lowering  the sentences\n",
    "    review = review.split()\n",
    "    review = [wordnet.lemmatize(word) for word in review if word not in set(stopwords.words('english'))]\n",
    "    review = ' '.join(review)\n",
    "    corpus_lemma.append(review)"
   ]
  },
  {
   "cell_type": "markdown",
   "id": "7903e387",
   "metadata": {},
   "source": [
    "# Bag of Words"
   ]
  },
  {
   "cell_type": "code",
   "execution_count": 6,
   "id": "3530a5e5",
   "metadata": {},
   "outputs": [],
   "source": [
    "#Bag of Words model\n",
    "from sklearn.feature_extraction.text import CountVectorizer\n",
    "cv = CountVectorizer(max_features= 5000)\n",
    "X_stem = cv.fit_transform(corpus_stem).toarray()\n",
    "X_lemma = cv.fit_transform(corpus_lemma).toarray()"
   ]
  },
  {
   "cell_type": "code",
   "execution_count": 7,
   "id": "ecf8e150",
   "metadata": {},
   "outputs": [
    {
     "data": {
      "text/plain": [
       "array([0, 0, 1, ..., 0, 0, 0], dtype=uint8)"
      ]
     },
     "execution_count": 7,
     "metadata": {},
     "output_type": "execute_result"
    }
   ],
   "source": [
    "#converting labels to numbers\n",
    "y = pd.get_dummies(df['label'])\n",
    "y = y.iloc[:,1].values\n",
    "y"
   ]
  },
  {
   "cell_type": "code",
   "execution_count": 8,
   "id": "2e1cfc57",
   "metadata": {},
   "outputs": [],
   "source": [
    "#importing libraries for model training\n",
    "from sklearn.model_selection import train_test_split\n",
    "from sklearn.naive_bayes import MultinomialNB"
   ]
  },
  {
   "cell_type": "code",
   "execution_count": 9,
   "id": "811914db",
   "metadata": {},
   "outputs": [],
   "source": [
    "X_stem_train, X_stem_test, y_train, y_test = train_test_split(X_stem, y, test_size=0.20, random_state=0)\n",
    "X_lemma_train, X_lemma_test, y_train, y_test = train_test_split(X_lemma, y, test_size=0.20, random_state=0)"
   ]
  },
  {
   "cell_type": "code",
   "execution_count": 11,
   "id": "e44fa5c5",
   "metadata": {},
   "outputs": [],
   "source": [
    "spam_detector_stem = MultinomialNB().fit(X_stem_train, y_train)\n",
    "spam_detector_lemma = MultinomialNB().fit(X_lemma_train, y_train)"
   ]
  },
  {
   "cell_type": "code",
   "execution_count": 12,
   "id": "ac17bed9",
   "metadata": {},
   "outputs": [],
   "source": [
    "y_pred_stem = spam_detector_stem.predict(X_stem_test)\n",
    "y_pred_lemma = spam_detector_lemma.predict(X_lemma_test)"
   ]
  },
  {
   "cell_type": "code",
   "execution_count": 13,
   "id": "e541af6f",
   "metadata": {},
   "outputs": [],
   "source": [
    "#checking accuracy via confusion matrix\n",
    "from sklearn.metrics import confusion_matrix\n",
    "confusion_m_stem = confusion_matrix(y_test, y_pred_stem)\n",
    "confusion_m_lemma = confusion_matrix(y_test, y_pred_lemma)"
   ]
  },
  {
   "cell_type": "code",
   "execution_count": 14,
   "id": "3f66c5c5",
   "metadata": {},
   "outputs": [
    {
     "data": {
      "text/plain": [
       "array([[946,   9],\n",
       "       [  8, 152]], dtype=int64)"
      ]
     },
     "execution_count": 14,
     "metadata": {},
     "output_type": "execute_result"
    }
   ],
   "source": [
    "confusion_m_stem"
   ]
  },
  {
   "cell_type": "code",
   "execution_count": 15,
   "id": "f08d30ba",
   "metadata": {},
   "outputs": [
    {
     "data": {
      "text/plain": [
       "array([[944,  11],\n",
       "       [  9, 151]], dtype=int64)"
      ]
     },
     "execution_count": 15,
     "metadata": {},
     "output_type": "execute_result"
    }
   ],
   "source": [
    "confusion_m_lemma"
   ]
  },
  {
   "cell_type": "code",
   "execution_count": 16,
   "id": "d14b6ded",
   "metadata": {},
   "outputs": [],
   "source": [
    "#checking accuracy via accuracy score\n",
    "from sklearn.metrics import accuracy_score\n",
    "score_stem = accuracy_score(y_test, y_pred_stem)\n",
    "score_lemma = accuracy_score(y_test, y_pred_lemma)"
   ]
  },
  {
   "cell_type": "code",
   "execution_count": 17,
   "id": "94f7c123",
   "metadata": {},
   "outputs": [
    {
     "data": {
      "text/plain": [
       "0.9847533632286996"
      ]
     },
     "execution_count": 17,
     "metadata": {},
     "output_type": "execute_result"
    }
   ],
   "source": [
    "score_stem"
   ]
  },
  {
   "cell_type": "code",
   "execution_count": 18,
   "id": "a93ddbc4",
   "metadata": {},
   "outputs": [
    {
     "data": {
      "text/plain": [
       "0.9820627802690582"
      ]
     },
     "execution_count": 18,
     "metadata": {},
     "output_type": "execute_result"
    }
   ],
   "source": [
    "score_lemma"
   ]
  },
  {
   "cell_type": "markdown",
   "id": "1865b3c2",
   "metadata": {},
   "source": [
    "We can see that stemmer performs better tham lemma, However both are almost similar. Next lets try using the TF-IDF instead of the Bag of Words method."
   ]
  },
  {
   "cell_type": "markdown",
   "id": "ecc23cc8",
   "metadata": {},
   "source": [
    "# TF-IDF"
   ]
  },
  {
   "cell_type": "code",
   "execution_count": 19,
   "id": "f2186960",
   "metadata": {},
   "outputs": [],
   "source": [
    "#tf-idf model\\\n",
    "\n",
    "#importing libraries\n",
    "from sklearn.feature_extraction.text import TfidfVectorizer\n",
    "cv = TfidfVectorizer(max_features= 5000)\n",
    "X_stem = cv.fit_transform(corpus_stem).toarray()\n",
    "X_lemma = cv.fit_transform(corpus_lemma).toarray()"
   ]
  },
  {
   "cell_type": "code",
   "execution_count": 20,
   "id": "bafe4890",
   "metadata": {},
   "outputs": [
    {
     "data": {
      "text/plain": [
       "array([0, 0, 1, ..., 0, 0, 0], dtype=uint8)"
      ]
     },
     "execution_count": 20,
     "metadata": {},
     "output_type": "execute_result"
    }
   ],
   "source": [
    "#converting labels to numbers\n",
    "y = pd.get_dummies(df['label'])\n",
    "y = y.iloc[:,1].values\n",
    "y"
   ]
  },
  {
   "cell_type": "code",
   "execution_count": 21,
   "id": "d8374228",
   "metadata": {},
   "outputs": [],
   "source": [
    "# import libraries for model training\n",
    "from sklearn.model_selection import train_test_split\n",
    "from sklearn.naive_bayes import MultinomialNB"
   ]
  },
  {
   "cell_type": "code",
   "execution_count": 22,
   "id": "a0aa1774",
   "metadata": {},
   "outputs": [],
   "source": [
    "X_stem_train, X_stem_test, y_train, y_test = train_test_split(X_stem, y, test_size=0.20, random_state=0)\n",
    "X_lemma_train, X_lemma_test, y_train, y_test = train_test_split(X_lemma, y, test_size=0.20, random_state=0)"
   ]
  },
  {
   "cell_type": "code",
   "execution_count": 23,
   "id": "85f32a21",
   "metadata": {},
   "outputs": [],
   "source": [
    "spam_detector_stem = MultinomialNB().fit(X_stem_train, y_train)\n",
    "spam_detector_lemma = MultinomialNB().fit(X_lemma_train, y_train)"
   ]
  },
  {
   "cell_type": "code",
   "execution_count": 24,
   "id": "45cd1a6f",
   "metadata": {},
   "outputs": [],
   "source": [
    "y_pred_stem = spam_detector_stem.predict(X_stem_test)\n",
    "y_pred_lemma = spam_detector_lemma.predict(X_lemma_test)"
   ]
  },
  {
   "cell_type": "code",
   "execution_count": 25,
   "id": "9fdda30d",
   "metadata": {},
   "outputs": [],
   "source": [
    "#checking accuracy via confusion matrix\n",
    "from sklearn.metrics import confusion_matrix\n",
    "confusion_m_stem = confusion_matrix(y_test, y_pred_stem)\n",
    "confusion_m_lemma = confusion_matrix(y_test, y_pred_lemma)"
   ]
  },
  {
   "cell_type": "code",
   "execution_count": 26,
   "id": "56a59236",
   "metadata": {},
   "outputs": [
    {
     "data": {
      "text/plain": [
       "array([[955,   0],\n",
       "       [ 29, 131]], dtype=int64)"
      ]
     },
     "execution_count": 26,
     "metadata": {},
     "output_type": "execute_result"
    }
   ],
   "source": [
    "confusion_m_stem"
   ]
  },
  {
   "cell_type": "code",
   "execution_count": 27,
   "id": "45cc1c5a",
   "metadata": {},
   "outputs": [
    {
     "data": {
      "text/plain": [
       "array([[955,   0],\n",
       "       [ 26, 134]], dtype=int64)"
      ]
     },
     "execution_count": 27,
     "metadata": {},
     "output_type": "execute_result"
    }
   ],
   "source": [
    "confusion_m_lemma"
   ]
  },
  {
   "cell_type": "code",
   "execution_count": 28,
   "id": "608f26e6",
   "metadata": {},
   "outputs": [],
   "source": [
    "#checking accuracy via accuracy score\n",
    "from sklearn.metrics import accuracy_score\n",
    "score_stem = accuracy_score(y_test, y_pred_stem)\n",
    "score_lemma = accuracy_score(y_test, y_pred_lemma)"
   ]
  },
  {
   "cell_type": "code",
   "execution_count": 29,
   "id": "df7ccb74",
   "metadata": {},
   "outputs": [
    {
     "data": {
      "text/plain": [
       "0.9739910313901345"
      ]
     },
     "execution_count": 29,
     "metadata": {},
     "output_type": "execute_result"
    }
   ],
   "source": [
    "score_stem"
   ]
  },
  {
   "cell_type": "code",
   "execution_count": 30,
   "id": "4e1ce54f",
   "metadata": {},
   "outputs": [
    {
     "data": {
      "text/plain": [
       "0.9766816143497757"
      ]
     },
     "execution_count": 30,
     "metadata": {},
     "output_type": "execute_result"
    }
   ],
   "source": [
    "score_lemma"
   ]
  },
  {
   "cell_type": "markdown",
   "id": "8e8392a6",
   "metadata": {},
   "source": [
    "After using the Tf-IDF Vectorizer we can see that Bag of words outperforms Tf-IDF in both stemmer and lemma types."
   ]
  }
 ],
 "metadata": {
  "kernelspec": {
   "display_name": "Python 3 (ipykernel)",
   "language": "python",
   "name": "python3"
  },
  "language_info": {
   "codemirror_mode": {
    "name": "ipython",
    "version": 3
   },
   "file_extension": ".py",
   "mimetype": "text/x-python",
   "name": "python",
   "nbconvert_exporter": "python",
   "pygments_lexer": "ipython3",
   "version": "3.9.9"
  }
 },
 "nbformat": 4,
 "nbformat_minor": 5
}
